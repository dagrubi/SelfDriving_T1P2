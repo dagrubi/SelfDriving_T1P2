{
 "cells": [
  {
   "cell_type": "markdown",
   "metadata": {},
   "source": [
    "# Self-Driving Car Engineer Nanodegree\n",
    "\n",
    "## Deep Learning\n",
    "\n",
    "## Project: Build a Traffic Sign Recognition Classifier\n",
    "\n",
    "In this notebook, a template is provided for you to implement your functionality in stages, which is required to successfully complete this project. If additional code is required that cannot be included in the notebook, be sure that the Python code is successfully imported and included in your submission if necessary. \n",
    "\n",
    "> **Note**: Once you have completed all of the code implementations, you need to finalize your work by exporting the iPython Notebook as an HTML document. Before exporting the notebook to html, all of the code cells need to have been run so that reviewers can see the final implementation and output. You can then export the notebook by using the menu above and navigating to  \\n\",\n",
    "    \"**File -> Download as -> HTML (.html)**. Include the finished document along with this notebook as your submission. \n",
    "\n",
    "In addition to implementing code, there is a writeup to complete. The writeup should be completed in a separate file, which can be either a markdown file or a pdf document. There is a [write up template](https://github.com/udacity/CarND-Traffic-Sign-Classifier-Project/blob/master/writeup_template.md) that can be used to guide the writing process. Completing the code template and writeup template will cover all of the [rubric points](https://review.udacity.com/#!/rubrics/481/view) for this project.\n",
    "\n",
    "The [rubric](https://review.udacity.com/#!/rubrics/481/view) contains \"Stand Out Suggestions\" for enhancing the project beyond the minimum requirements. The stand out suggestions are optional. If you decide to pursue the \"stand out suggestions\", you can include the code in this Ipython notebook and also discuss the results in the writeup file.\n",
    "\n",
    "\n",
    ">**Note:** Code and Markdown cells can be executed using the **Shift + Enter** keyboard shortcut. In addition, Markdown cells can be edited by typically double-clicking the cell to enter edit mode."
   ]
  },
  {
   "cell_type": "markdown",
   "metadata": {},
   "source": [
    "---\n",
    "## Step 0: Load The Data"
   ]
  },
  {
   "cell_type": "code",
   "execution_count": 1,
   "metadata": {},
   "outputs": [
    {
     "name": "stdout",
     "output_type": "stream",
     "text": [
      "Training:  34799  -  34799\n",
      "Validation:  4410  -  4410\n",
      "Test:  12630  -  12630\n"
     ]
    }
   ],
   "source": [
    "# Load pickled data\n",
    "import pickle\n",
    "\n",
    "# TODO: Fill this in based on where you saved the training and testing data\n",
    "\n",
    "training_file = \"./traffic-signs-data/train.p\"\n",
    "validation_file= \"./traffic-signs-data/valid.p\"\n",
    "testing_file = \"./traffic-signs-data/test.p\"\n",
    "\n",
    "with open(training_file, mode='rb') as f:\n",
    "    train = pickle.load(f)\n",
    "with open(validation_file, mode='rb') as f:\n",
    "    valid = pickle.load(f)\n",
    "with open(testing_file, mode='rb') as f:\n",
    "    test = pickle.load(f)\n",
    "    \n",
    "X_train, y_train = train['features'], train['labels']\n",
    "X_valid, y_valid = valid['features'], valid['labels']\n",
    "X_test, y_test = test['features'], test['labels']\n",
    "\n",
    "print(\"Training: \", len(X_train), \" - \", len(y_train))\n",
    "print(\"Validation: \", len(X_valid), \" - \", len(y_valid))\n",
    "print(\"Test: \", len(X_test), \" - \", len(y_test))"
   ]
  },
  {
   "cell_type": "markdown",
   "metadata": {},
   "source": [
    "---\n",
    "\n",
    "## Step 1: Dataset Summary & Exploration\n",
    "\n",
    "The pickled data is a dictionary with 4 key/value pairs:\n",
    "\n",
    "- `'features'` is a 4D array containing raw pixel data of the traffic sign images, (num examples, width, height, channels).\n",
    "- `'labels'` is a 1D array containing the label/class id of the traffic sign. The file `signnames.csv` contains id -> name mappings for each id.\n",
    "- `'sizes'` is a list containing tuples, (width, height) representing the original width and height the image.\n",
    "- `'coords'` is a list containing tuples, (x1, y1, x2, y2) representing coordinates of a bounding box around the sign in the image. **THESE COORDINATES ASSUME THE ORIGINAL IMAGE. THE PICKLED DATA CONTAINS RESIZED VERSIONS (32 by 32) OF THESE IMAGES**\n",
    "\n",
    "Complete the basic data summary below. Use python, numpy and/or pandas methods to calculate the data summary rather than hard coding the results. For example, the [pandas shape method](http://pandas.pydata.org/pandas-docs/stable/generated/pandas.DataFrame.shape.html) might be useful for calculating some of the summary results. "
   ]
  },
  {
   "cell_type": "markdown",
   "metadata": {},
   "source": [
    "### Provide a Basic Summary of the Data Set Using Python, Numpy and/or Pandas"
   ]
  },
  {
   "cell_type": "code",
   "execution_count": 2,
   "metadata": {},
   "outputs": [
    {
     "name": "stdout",
     "output_type": "stream",
     "text": [
      "Number of training examples = 34799\n",
      "Number of testing examples = 12630\n",
      "Number of validation examples =  4410\n",
      "Image data shape = (32, 32, 3)\n",
      "Number of classes = 43\n"
     ]
    }
   ],
   "source": [
    "### Replace each question mark with the appropriate value. \n",
    "### Use python, pandas or numpy methods rather than hard coding the results\n",
    "import numpy as np\n",
    "\n",
    "# TODO: Number of training examples\n",
    "n_train = len(X_train)\n",
    "\n",
    "# TODO: Number of validation examples\n",
    "n_validation = len(X_valid)\n",
    "\n",
    "# TODO: Number of testing examples.\n",
    "n_test = len(X_test)\n",
    "\n",
    "# TODO: What's the shape of an traffic sign image?\n",
    "image_shape = X_train[0].shape\n",
    "\n",
    "# TODO: How many unique classes/labels there are in the dataset.\n",
    "n_classes = np.unique(y_train).shape[0]\n",
    "\n",
    "print(\"Number of training examples =\", n_train)\n",
    "print(\"Number of testing examples =\", n_test)\n",
    "print(\"Number of validation examples = \", n_validation)\n",
    "print(\"Image data shape =\", image_shape)\n",
    "print(\"Number of classes =\", n_classes)"
   ]
  },
  {
   "cell_type": "markdown",
   "metadata": {},
   "source": [
    "### Include an exploratory visualization of the dataset"
   ]
  },
  {
   "cell_type": "markdown",
   "metadata": {},
   "source": [
    "Visualize the German Traffic Signs Dataset using the pickled file(s). This is open ended, suggestions include: plotting traffic sign images, plotting the count of each sign, etc. \n",
    "\n",
    "The [Matplotlib](http://matplotlib.org/) [examples](http://matplotlib.org/examples/index.html) and [gallery](http://matplotlib.org/gallery.html) pages are a great resource for doing visualizations in Python.\n",
    "\n",
    "**NOTE:** It's recommended you start with something simple first. If you wish to do more, come back to it after you've completed the rest of the sections. It can be interesting to look at the distribution of classes in the training, validation and test set. Is the distribution the same? Are there more examples of some classes than others?"
   ]
  },
  {
   "cell_type": "code",
   "execution_count": 3,
   "metadata": {},
   "outputs": [
    {
     "name": "stdout",
     "output_type": "stream",
     "text": [
      "Visualisation of 4 images\n"
     ]
    },
    {
     "data": {
      "image/png": "[encoded data removed]",
      "text/plain": [
       "<matplotlib.figure.Figure at 0x7f6080bb79b0>"
      ]
     },
     "metadata": {},
     "output_type": "display_data"
    },
    {
     "name": "stdout",
     "output_type": "stream",
     "text": [
      "Histogram: Count of each sign\n"
     ]
    },
    {
     "data": {
      "image/png": "[encoded data removed]",
      "text/plain": [
       "<matplotlib.figure.Figure at 0x7f607cf605c0>"
      ]
     },
     "metadata": {},
     "output_type": "display_data"
    }
   ],
   "source": [
    "### Data exploration visualization code goes here.\n",
    "### Feel free to use as many code cells as needed.\n",
    "import matplotlib.pyplot as plt\n",
    "import numpy as np\n",
    "# Visualizations will be shown in the notebook.\n",
    "print(\"Visualisation of 4 images\")\n",
    "#%matplotlib inline\n",
    "nr_1 = [1200, 2523, 4634, 8912]\n",
    "for ii in range(0,4):\n",
    "    plt.subplot(2,2,ii+1)\n",
    "    plt.imshow(X_train[nr_1[ii]])\n",
    "    plt.title('Label: %d' % y_train[nr_1[ii]])\n",
    "plt.tight_layout()\n",
    "plt.show()\n",
    "\n",
    "print(\"Histogram: Count of each sign\")\n",
    "plt.hist(y_train, bins=43)\n",
    "plt.xlabel('traffic sign label')\n",
    "plt.ylabel('Counts')\n",
    "plt.tight_layout()\n",
    "plt.show()\n",
    "\n"
   ]
  },
  {
   "cell_type": "markdown",
   "metadata": {},
   "source": [
    "----\n",
    "\n",
    "## Step 2: Design and Test a Model Architecture\n",
    "\n",
    "Design and implement a deep learning model that learns to recognize traffic signs. Train and test your model on the [German Traffic Sign Dataset](http://benchmark.ini.rub.de/?section=gtsrb&subsection=dataset).\n",
    "\n",
    "The LeNet-5 implementation shown in the [classroom](https://classroom.udacity.com/nanodegrees/nd013/parts/fbf77062-5703-404e-b60c-95b78b2f3f9e/modules/6df7ae49-c61c-4bb2-a23e-6527e69209ec/lessons/601ae704-1035-4287-8b11-e2c2716217ad/concepts/d4aca031-508f-4e0b-b493-e7b706120f81) at the end of the CNN lesson is a solid starting point. You'll have to change the number of classes and possibly the preprocessing, but aside from that it's plug and play! \n",
    "\n",
    "With the LeNet-5 solution from the lecture, you should expect a validation set accuracy of about 0.89. To meet specifications, the validation set accuracy will need to be at least 0.93. It is possible to get an even higher accuracy, but 0.93 is the minimum for a successful project submission. \n",
    "\n",
    "There are various aspects to consider when thinking about this problem:\n",
    "\n",
    "- Neural network architecture (is the network over or underfitting?)\n",
    "- Play around preprocessing techniques (normalization, rgb to grayscale, etc)\n",
    "- Number of examples per label (some have more than others).\n",
    "- Generate fake data.\n",
    "\n",
    "Here is an example of a [published baseline model on this problem](http://yann.lecun.com/exdb/publis/pdf/sermanet-ijcnn-11.pdf). It's not required to be familiar with the approach used in the paper but, it's good practice to try to read papers like these."
   ]
  },
  {
   "cell_type": "markdown",
   "metadata": {},
   "source": [
    "### Pre-process the Data Set (normalization, grayscale, etc.)"
   ]
  },
  {
   "cell_type": "markdown",
   "metadata": {},
   "source": [
    "Minimally, the image data should be normalized so that the data has mean zero and equal variance. For image data, `(pixel - 128)/ 128` is a quick way to approximately normalize the data and can be used in this project. \n",
    "\n",
    "Other pre-processing steps are optional. You can try different techniques to see if it improves performance. \n",
    "\n",
    "Use the code cell (or multiple code cells, if necessary) to implement the first step of your project."
   ]
  },
  {
   "cell_type": "code",
   "execution_count": 4,
   "metadata": {},
   "outputs": [
    {
     "name": "stdout",
     "output_type": "stream",
     "text": [
      "plot grayscale\n"
     ]
    },
    {
     "data": {
      "image/png": "[encoded data removed]",
      "text/plain": [
       "<matplotlib.figure.Figure at 0x7f607cd2dcc0>"
      ]
     },
     "metadata": {},
     "output_type": "display_data"
    },
    {
     "name": "stdout",
     "output_type": "stream",
     "text": [
      "(32, 32)\n",
      "after conversion\n",
      "(32, 32, 1)\n",
      "Shape RGB:  (32, 32, 3)\n",
      "Shape Grey:  (32, 32, 1)\n",
      "plot normalizsation color\n"
     ]
    },
    {
     "data": {
      "image/png": "[encoded data removed]",
      "text/plain": [
       "<matplotlib.figure.Figure at 0x7f605bbfc4e0>"
      ]
     },
     "metadata": {},
     "output_type": "display_data"
    },
    {
     "name": "stdout",
     "output_type": "stream",
     "text": [
      "plot normalizsation gray\n"
     ]
    },
    {
     "data": {
      "image/png": "[encoded data removed]",
      "text/plain": [
       "<matplotlib.figure.Figure at 0x7f60650f5da0>"
      ]
     },
     "metadata": {},
     "output_type": "display_data"
    }
   ],
   "source": [
    "### Preprocess the data here. It is required to normalize the data. Other preprocessing steps could include \n",
    "### converting to grayscale, etc.\n",
    "### Feel free to use as many code cells as needed.\n",
    "from sklearn.utils import shuffle\n",
    "import matplotlib.pyplot as plt\n",
    "import matplotlib\n",
    "import cv2\n",
    "\n",
    "def grayscale(img):\n",
    "    return cv2.cvtColor(img, cv2.COLOR_BGR2GRAY)\n",
    "\n",
    "# nr fig to plot\n",
    "nr_fig = 1567\n",
    "\n",
    "# rgb pics\n",
    "X_train_rgb = X_train\n",
    "X_valid_rgb = X_valid\n",
    "X_test_rgb = X_test\n",
    "\n",
    "# grayscale images\n",
    "X_train_gray =  []\n",
    "X_valid_gray = []\n",
    "X_test_gray = []\n",
    "for i in range(0, len(X_train_rgb)):\n",
    "    gray = grayscale(X_train_rgb[i])\n",
    "    X_train_gray.append(gray)\n",
    "    \n",
    "for i in range(0, len(X_test_rgb)):\n",
    "    gray = grayscale(X_test_rgb[i])\n",
    "    X_test_gray.append(gray) \n",
    "\n",
    "for i in range(0, len(X_valid_rgb)):\n",
    "    gray = grayscale(X_valid_rgb[i])\n",
    "    X_valid_gray.append(gray) \n",
    "\n",
    "\n",
    "## plot grayscaling \n",
    "print(\"plot grayscale\")\n",
    "plt.subplot(2,2,1)\n",
    "plt.imshow(X_train_rgb[nr_fig])\n",
    "plt.subplot(2,2,2)\n",
    "plt.imshow(X_train_gray[nr_fig], cmap='gray')\n",
    "plt.show()\n",
    "\n",
    "# convert format to 32x32x1\n",
    "print(X_train_gray[0].shape)\n",
    "X_train_gray = np.expand_dims(X_train_gray, axis=3)\n",
    "X_test_gray = np.expand_dims(X_test_gray, axis=3)\n",
    "X_valid_gray = np.expand_dims(X_valid_gray, axis=3)\n",
    "print(\"after conversion\")\n",
    "print(X_train_gray[0].shape)\n",
    "\n",
    "print(\"Shape RGB: \", X_train_rgb[0].shape)\n",
    "print(\"Shape Grey: \", X_train_gray[0].shape)\n",
    "\n",
    "\n",
    "# normalizsation rgb\n",
    "X_train_rgb_n = (X_train_rgb - 128.0) / 128.0\n",
    "X_valid_rgb_n = (X_valid_rgb - 128.0) / 128.0\n",
    "X_test_rgb_n = (X_test_rgb - 128.0) / 128.0\n",
    "\n",
    "X_train_gray_n = (X_train_gray - 128.0) / 128.0\n",
    "X_valid_gray_n = (X_valid_gray - 128.0) / 128.0\n",
    "X_test_gray_n = (X_test_gray - 128.0) / 128.0\n",
    "\n",
    "print(\"plot normalizsation color\")\n",
    "plt.subplot(2,2,1)\n",
    "plt.imshow(X_train_rgb[nr_fig])\n",
    "plt.subplot(2,2,2)\n",
    "plt.imshow(X_train_rgb_n[nr_fig])\n",
    "plt.show()\n",
    "\n",
    "pic_sel = X_train_gray_n[nr_fig]\n",
    "pic_sel = pic_sel[:, :, 0]\n",
    "\n",
    "print(\"plot normalizsation gray\")\n",
    "plt.subplot(2,2,1)\n",
    "plt.imshow(X_train_rgb[nr_fig])\n",
    "plt.subplot(2,2,2)\n",
    "plt.imshow(pic_sel, cmap='gray')\n",
    "plt.show()\n",
    "\n",
    "\n"
   ]
  },
  {
   "cell_type": "markdown",
   "metadata": {},
   "source": [
    "### Model Architecture"
   ]
  },
  {
   "cell_type": "code",
   "execution_count": 5,
   "metadata": {
    "collapsed": true
   },
   "outputs": [],
   "source": [
    "### Define your architecture here.\n",
    "### Feel free to use as many code cells as needed.\n",
    "import tensorflow as tf\n",
    "\n",
    "from tensorflow.contrib.layers import flatten\n",
    "\n",
    "\n",
    "def LeNet_Gray(x):    \n",
    "    # Arguments used for tf.truncated_normal, randomly defines variables for the weights and biases for each layer\n",
    "    mu = 0\n",
    "    sigma = 0.1\n",
    "    #nout_conv1 = 6\n",
    "    #nout_conv2 = 16\n",
    "    #nout_conv3 = 172\n",
    "    \n",
    "    nout_conv1 = 12\n",
    "    nout_conv2 = 30\n",
    "    nout_conv3 = 120\n",
    "    nout_fully1 = 200\n",
    "    nout_fully2 = 100\n",
    "    n_labels = 43\n",
    "    \n",
    "    # SOLUTION: Layer 1: Convolutional. Input = 32x32x1. Output = 28x28x nout_conv1.\n",
    "    conv1_W = tf.Variable(tf.truncated_normal(shape=(5, 5, 1, nout_conv1), mean = mu, stddev = sigma))\n",
    "    conv1_b = tf.Variable(tf.zeros([nout_conv1]))\n",
    "    conv1   = tf.nn.conv2d(x, conv1_W, strides=[1, 1, 1, 1], padding='VALID') + conv1_b\n",
    "\n",
    "    # SOLUTION: Activation.\n",
    "    conv1 = tf.nn.relu(conv1)\n",
    "\n",
    "    # SOLUTION: Pooling. Input = 28x28x nout_conv1. Output = 14x14x nout_conv1\n",
    "    conv1 = tf.nn.max_pool(conv1, ksize=[1, 2, 2, 1], strides=[1, 2, 2, 1], padding='VALID')\n",
    "    \n",
    "    # Dropout\n",
    "    #conv1 = tf.nn.dropout(conv1, 0.5)\n",
    "\n",
    "    # SOLUTION: Layer 2: Convolutional. Output = 10x10xnout_conv2.\n",
    "    conv2_W = tf.Variable(tf.truncated_normal(shape=(5, 5, nout_conv1, nout_conv2), mean = mu, stddev = sigma))\n",
    "    conv2_b = tf.Variable(tf.zeros([nout_conv2]))\n",
    "    conv2   = tf.nn.conv2d(conv1, conv2_W, strides=[1, 1, 1, 1], padding='VALID') + conv2_b\n",
    "    \n",
    "    # SOLUTION: Activation.\n",
    "    conv2 = tf.nn.relu(conv2)\n",
    "\n",
    "    # SOLUTION: Pooling. Input = 10x10xnout_conv2. Output = 5x5xnout_conv2.\n",
    "    conv2 = tf.nn.max_pool(conv2, ksize=[1, 2, 2, 1], strides=[1, 2, 2, 1], padding='VALID')\n",
    "    \n",
    "     # Dropout\n",
    "    #conv2 = tf.nn.dropout(conv2, 0.5)\n",
    "    \n",
    "    # SOLUTION: Layer 3: Convolutional. Output = 3x3xnout_conv3.\n",
    "    conv3_W = tf.Variable(tf.truncated_normal(shape=(3, 3, nout_conv2, nout_conv3), mean = mu, stddev = sigma))\n",
    "    conv3_b = tf.Variable(tf.zeros([nout_conv3]))\n",
    "    conv3   = tf.nn.conv2d(conv2, conv3_W, strides=[1, 1, 1, 1], padding='VALID') + conv3_b\n",
    "    \n",
    "    # SOLUTION: Activation.\n",
    "    conv3 = tf.nn.relu(conv3)\n",
    "\n",
    "    # SOLUTION: Pooling. Input = 10x10xnout_conv2. Output = 2x2xnout_conv3.\n",
    "    conv3 = tf.nn.max_pool(conv3, ksize=[1, 2, 2, 1], strides=[1, 1, 1, 1], padding='VALID')\n",
    "    \n",
    "    # Dropout\n",
    "    #conv3 = tf.nn.dropout(conv3, 0.5)\n",
    "    \n",
    "    n_flatten = nout_conv3*2*2\n",
    "    # SOLUTION: Flatten. Input = 2x2x120. Output = 480.\n",
    "    fc0   = flatten(conv3)\n",
    "    \n",
    "    # SOLUTION: Layer 4: Fully Connected. Input = 480. Output = nout_fully1.\n",
    "    fc1_W = tf.Variable(tf.truncated_normal(shape=(n_flatten, nout_fully1), mean = mu, stddev = sigma))\n",
    "    fc1_b = tf.Variable(tf.zeros([nout_fully1]))\n",
    "    fc1   = tf.matmul(fc0, fc1_W) + fc1_b\n",
    "    \n",
    "    # SOLUTION: Activation.\n",
    "    fc1    = tf.nn.relu(fc1)\n",
    "    \n",
    "     # Dropout\n",
    "    fc1 = tf.nn.dropout(fc1, 0.5)\n",
    "\n",
    "    # SOLUTION: Layer 5: Fully Connected. Input = nout_fully1. Output = nout_fully2.\n",
    "    fc2_W  = tf.Variable(tf.truncated_normal(shape=(nout_fully1, nout_fully2), mean = mu, stddev = sigma))\n",
    "    fc2_b  = tf.Variable(tf.zeros([nout_fully2]))\n",
    "    fc2    = tf.matmul(fc1, fc2_W) + fc2_b\n",
    "    \n",
    "    # SOLUTION: Activation.\n",
    "    fc2    = tf.nn.relu(fc2)\n",
    "    \n",
    "     # Dropout\n",
    "    fc2 = tf.nn.dropout(fc2, 0.5)\n",
    "\n",
    "    # SOLUTION: Layer 6: Fully Connected. Input = nout_fully2. Output = 43.\n",
    "    fc3_W  = tf.Variable(tf.truncated_normal(shape=(nout_fully2, n_labels), mean = mu, stddev = sigma))\n",
    "    fc3_b  = tf.Variable(tf.zeros(n_labels))\n",
    "    logits = tf.matmul(fc2, fc3_W) + fc3_b\n",
    "    \n",
    "    return logits\n",
    "\n",
    "def LeNet_RGB(x):    \n",
    "    # Arguments used for tf.truncated_normal, randomly defines variables for the weights and biases for each layer\n",
    "    mu = 0\n",
    "    sigma = 0.1\n",
    "    nout_conv1 = 24\n",
    "    nout_conv2 = 48\n",
    "    nout_conv3 = 172\n",
    "    nout_fully1 = 400\n",
    "    nout_fully2 = 129\n",
    "    n_labels = 43\n",
    "    \n",
    "    # SOLUTION: Layer 1: Convolutional. Input = 32x32x3. Output = 28x28x nout_conv1.\n",
    "    conv1_W = tf.Variable(tf.truncated_normal(shape=(5, 5, 3, nout_conv1), mean = mu, stddev = sigma))\n",
    "    conv1_b = tf.Variable(tf.zeros([nout_conv1]))\n",
    "    conv1   = tf.nn.conv2d(x, conv1_W, strides=[1, 1, 1, 1], padding='VALID') + conv1_b\n",
    "\n",
    "    # SOLUTION: Activation.\n",
    "    conv1 = tf.nn.relu(conv1)\n",
    "\n",
    "    # SOLUTION: Pooling. Input = 28x28x nout_conv1. Output = 14x14x nout_conv1\n",
    "    conv1 = tf.nn.max_pool(conv1, ksize=[1, 2, 2, 1], strides=[1, 2, 2, 1], padding='VALID')\n",
    "\n",
    "    # SOLUTION: Layer 2: Convolutional. Output = 10x10xnout_conv2.\n",
    "    conv2_W = tf.Variable(tf.truncated_normal(shape=(5, 5, nout_conv1, nout_conv2), mean = mu, stddev = sigma))\n",
    "    conv2_b = tf.Variable(tf.zeros([nout_conv2]))\n",
    "    conv2   = tf.nn.conv2d(conv1, conv2_W, strides=[1, 1, 1, 1], padding='VALID') + conv2_b\n",
    "    \n",
    "    # SOLUTION: Activation.\n",
    "    conv2 = tf.nn.relu(conv2)\n",
    "\n",
    "    # SOLUTION: Pooling. Input = 10x10xnout_conv2. Output = 5x5xnout_conv2.\n",
    "    conv2 = tf.nn.max_pool(conv2, ksize=[1, 2, 2, 1], strides=[1, 2, 2, 1], padding='VALID')\n",
    "    \n",
    "    # Dropout\n",
    "    #conv2 = tf.nn.dropout(conv2, 0.5)\n",
    "        \n",
    "    # SOLUTION: Layer 3: Convolutional. Output = 3x3xnout_conv3.\n",
    "    conv3_W = tf.Variable(tf.truncated_normal(shape=(3, 3, nout_conv2, nout_conv3), mean = mu, stddev = sigma))\n",
    "    conv3_b = tf.Variable(tf.zeros([nout_conv3]))\n",
    "    conv3   = tf.nn.conv2d(conv2, conv3_W, strides=[1, 1, 1, 1], padding='VALID') + conv3_b\n",
    "    \n",
    "    # SOLUTION: Activation.\n",
    "    conv3 = tf.nn.relu(conv3)\n",
    "\n",
    "    # SOLUTION: Pooling. Input = 3x3xnout_conv2. Output = 2x2xnout_conv3.\n",
    "    conv3 = tf.nn.max_pool(conv3, ksize=[1, 2, 2, 1], strides=[1, 1, 1, 1], padding='VALID')\n",
    "    \n",
    "    n_flatten = nout_conv3*2*2\n",
    "    # SOLUTION: Flatten. Input = 2x2x172. Output = 688.\n",
    "    fc0   = flatten(conv3)\n",
    "        \n",
    "    # SOLUTION: Layer 4: Fully Connected. Input = 688. Output = nout_fully1.\n",
    "    fc1_W = tf.Variable(tf.truncated_normal(shape=(n_flatten, nout_fully1), mean = mu, stddev = sigma))\n",
    "    fc1_b = tf.Variable(tf.zeros([nout_fully1]))\n",
    "    fc1   = tf.matmul(fc0, fc1_W) + fc1_b\n",
    "    \n",
    "    # SOLUTION: Activation.\n",
    "    fc1    = tf.nn.relu(fc1)\n",
    "    \n",
    "    # Dropout\n",
    "    fc1 = tf.nn.dropout(fc1, 0.5)\n",
    "\n",
    "    # SOLUTION: Layer 5: Fully Connected. Input = nout_fully1. Output = nout_fully2.\n",
    "    fc2_W  = tf.Variable(tf.truncated_normal(shape=(nout_fully1, nout_fully2), mean = mu, stddev = sigma))\n",
    "    fc2_b  = tf.Variable(tf.zeros(nout_fully2))\n",
    "    fc2    = tf.matmul(fc1, fc2_W) + fc2_b\n",
    "    \n",
    "    # SOLUTION: Activation.\n",
    "    fc2    = tf.nn.relu(fc2)\n",
    "    \n",
    "     # Dropout\n",
    "    fc2 = tf.nn.dropout(fc2, 0.5)\n",
    "\n",
    "    # SOLUTION: Layer 6: Fully Connected. Input = nout_fully2. Output = 43.\n",
    "    fc3_W  = tf.Variable(tf.truncated_normal(shape=(nout_fully2, n_labels), mean = mu, stddev = sigma))\n",
    "    fc3_b  = tf.Variable(tf.zeros(n_labels))\n",
    "    logits = tf.matmul(fc2, fc3_W) + fc3_b\n",
    "    \n",
    "    return logits"
   ]
  },
  {
   "cell_type": "markdown",
   "metadata": {},
   "source": [
    "### Train, Validate and Test the Model"
   ]
  },
  {
   "cell_type": "markdown",
   "metadata": {},
   "source": [
    "A validation set can be used to assess how well the model is performing. A low accuracy on the training and validation\n",
    "sets imply underfitting. A high accuracy on the training set but low accuracy on the validation set implies overfitting."
   ]
  },
  {
   "cell_type": "code",
   "execution_count": 6,
   "metadata": {},
   "outputs": [
    {
     "name": "stdout",
     "output_type": "stream",
     "text": [
      " Start Training\n",
      "Training...\n",
      "\n",
      "EPOCH 1 ...\n",
      "Validation Accuracy = 0.653\n",
      "\n",
      "EPOCH 2 ...\n",
      "Validation Accuracy = 0.837\n",
      "\n",
      "EPOCH 3 ...\n",
      "Validation Accuracy = 0.887\n",
      "\n",
      "EPOCH 4 ...\n",
      "Validation Accuracy = 0.912\n",
      "\n",
      "EPOCH 5 ...\n",
      "Validation Accuracy = 0.929\n",
      "\n",
      "EPOCH 6 ...\n",
      "Validation Accuracy = 0.931\n",
      "\n",
      "EPOCH 7 ...\n",
      "Validation Accuracy = 0.929\n",
      "\n",
      "EPOCH 8 ...\n",
      "Validation Accuracy = 0.926\n",
      "\n",
      "EPOCH 9 ...\n",
      "Validation Accuracy = 0.944\n",
      "\n",
      "EPOCH 10 ...\n",
      "Validation Accuracy = 0.939\n",
      "\n",
      "EPOCH 11 ...\n",
      "Validation Accuracy = 0.943\n",
      "\n",
      "EPOCH 12 ...\n",
      "Validation Accuracy = 0.946\n",
      "\n",
      "EPOCH 13 ...\n",
      "Validation Accuracy = 0.930\n",
      "\n",
      "EPOCH 14 ...\n",
      "Validation Accuracy = 0.939\n",
      "\n",
      "EPOCH 15 ...\n",
      "Validation Accuracy = 0.947\n",
      "\n",
      "EPOCH 16 ...\n",
      "Validation Accuracy = 0.950\n",
      "\n",
      "EPOCH 17 ...\n",
      "Validation Accuracy = 0.944\n",
      "\n",
      "EPOCH 18 ...\n",
      "Validation Accuracy = 0.939\n",
      "\n",
      "EPOCH 19 ...\n",
      "Validation Accuracy = 0.953\n",
      "\n",
      "EPOCH 20 ...\n",
      "Validation Accuracy = 0.936\n",
      "\n",
      "EPOCH 21 ...\n",
      "Validation Accuracy = 0.945\n",
      "\n",
      "EPOCH 22 ...\n",
      "Validation Accuracy = 0.950\n",
      "\n",
      "EPOCH 23 ...\n",
      "Validation Accuracy = 0.945\n",
      "\n",
      "EPOCH 24 ...\n",
      "Validation Accuracy = 0.951\n",
      "\n",
      "EPOCH 25 ...\n",
      "Validation Accuracy = 0.956\n",
      "\n",
      "EPOCH 26 ...\n",
      "Validation Accuracy = 0.944\n",
      "\n",
      "EPOCH 27 ...\n",
      "Validation Accuracy = 0.958\n",
      "\n",
      "EPOCH 28 ...\n",
      "Validation Accuracy = 0.968\n",
      "\n",
      "EPOCH 29 ...\n",
      "Validation Accuracy = 0.948\n",
      "\n",
      "EPOCH 30 ...\n",
      "Validation Accuracy = 0.948\n",
      "\n",
      "EPOCH 31 ...\n",
      "Validation Accuracy = 0.939\n",
      "\n",
      "EPOCH 32 ...\n",
      "Validation Accuracy = 0.954\n",
      "\n",
      "EPOCH 33 ...\n",
      "Validation Accuracy = 0.953\n",
      "\n",
      "EPOCH 34 ...\n",
      "Validation Accuracy = 0.937\n",
      "\n",
      "EPOCH 35 ...\n",
      "Validation Accuracy = 0.963\n",
      "\n",
      "EPOCH 36 ...\n",
      "Validation Accuracy = 0.965\n",
      "\n",
      "EPOCH 37 ...\n",
      "Validation Accuracy = 0.943\n",
      "\n",
      "EPOCH 38 ...\n",
      "Validation Accuracy = 0.951\n",
      "\n",
      "EPOCH 39 ...\n",
      "Validation Accuracy = 0.961\n",
      "\n",
      "EPOCH 40 ...\n",
      "Validation Accuracy = 0.965\n",
      "\n",
      "Model saved\n"
     ]
    }
   ],
   "source": [
    "### Train your model here.\n",
    "### Calculate and report the accuracy on the training and validation set.\n",
    "### Once a final model architecture is selected, \n",
    "### the accuracy on the test set should be calculated and reported as well.\n",
    "### Feel free to use as many code cells as needed.\n",
    "EPOCHS = 40\n",
    "BATCH_SIZE = 128\n",
    "MODEL_RGB = True\n",
    "\n",
    "## select data\n",
    "# select for prediction model\n",
    "if MODEL_RGB:\n",
    "    xx_train = X_train_rgb_n\n",
    "    xx_test = X_test_rgb_n\n",
    "    xx_valid = X_valid_rgb_n\n",
    "else:  \n",
    "    xx_train = X_train_gray_n\n",
    "    xx_test = X_test_gray_n\n",
    "    xx_valid = X_valid_gray_n\n",
    "yy_train = y_train\n",
    "yy_test = y_test\n",
    "yy_valid = y_valid\n",
    "\n",
    "# features and labels\n",
    "if MODEL_RGB:\n",
    "    x = tf.placeholder(tf.float32, (None, 32, 32, 3))\n",
    "else:\n",
    "    x = tf.placeholder(tf.float32, (None, 32, 32, 1))\n",
    "\n",
    "y = tf.placeholder(tf.int32, (None))\n",
    "one_hot_y = tf.one_hot(y, 43)\n",
    "\n",
    "#training pipeline\n",
    "rate = 0.001\n",
    "\n",
    "if MODEL_RGB:\n",
    "    logits = LeNet_RGB(x)\n",
    "else:\n",
    "    logits = LeNet_Gray(x)\n",
    "\n",
    "cross_entropy = tf.nn.softmax_cross_entropy_with_logits(labels=one_hot_y, logits=logits)\n",
    "loss_operation = tf.reduce_mean(cross_entropy)\n",
    "optimizer = tf.train.AdamOptimizer(learning_rate = rate)\n",
    "training_operation = optimizer.minimize(loss_operation)\n",
    "\n",
    "#model evaluation\n",
    "correct_prediction = tf.equal(tf.argmax(logits, 1), tf.argmax(one_hot_y, 1))\n",
    "accuracy_operation = tf.reduce_mean(tf.cast(correct_prediction, tf.float32))\n",
    "saver = tf.train.Saver()\n",
    "\n",
    "\n",
    "def evaluate(X_data, y_data):\n",
    "    num_examples = len(X_data)\n",
    "    total_accuracy = 0\n",
    "    sess = tf.get_default_session()\n",
    "    for offset in range(0, num_examples, BATCH_SIZE):\n",
    "        batch_x, batch_y = X_data[offset:offset+BATCH_SIZE], y_data[offset:offset+BATCH_SIZE]\n",
    "        accuracy = sess.run(accuracy_operation, feed_dict={x: batch_x, y: batch_y})\n",
    "        total_accuracy += (accuracy * len(batch_x))\n",
    "    return total_accuracy / num_examples\n",
    "\n",
    "print(\" Start Training\")\n",
    "\n",
    "# train the model\n",
    "with tf.Session() as sess:\n",
    "    sess.run(tf.global_variables_initializer())\n",
    "    num_examples = len(X_train)\n",
    "    accuracy_log = []\n",
    "    \n",
    "    print(\"Training...\")\n",
    "    print()\n",
    "    for i in range(EPOCHS):\n",
    "        X_train_e, y_train_e = shuffle(xx_train, yy_train)\n",
    "        for offset in range(0, num_examples, BATCH_SIZE):\n",
    "            end = offset + BATCH_SIZE\n",
    "            batch_x, batch_y = X_train_e[offset:end], y_train_e[offset:end]\n",
    "            sess.run(training_operation, feed_dict={x: batch_x, y: batch_y})\n",
    "            \n",
    "        validation_accuracy = evaluate(xx_valid, yy_valid)\n",
    "        print(\"EPOCH {} ...\".format(i+1))\n",
    "        print(\"Validation Accuracy = {:.3f}\".format(validation_accuracy))\n",
    "        print()\n",
    "        accuracy_log.append(validation_accuracy)\n",
    "    \n",
    "    if MODEL_RGB:\n",
    "        saver.save(sess, './model_rgb.ckpt')\n",
    "    else:\n",
    "        saver.save(sess, './model_gray.ckpt')\n",
    "    print(\"Model saved\")\n"
   ]
  },
  {
   "cell_type": "code",
   "execution_count": 7,
   "metadata": {},
   "outputs": [
    {
     "name": "stdout",
     "output_type": "stream",
     "text": [
      "[0.65328798115658926, 0.83673469393161415, 0.8866213150035227, 0.91156462617471912, 0.92857142884174437, 0.93083900151068932, 0.92925170046401939, 0.92607709674878458, 0.94353741445238626, 0.93900226757369609, 0.94331065656917168, 0.94557823129251706, 0.9303854865011445, 0.93877551025814476, 0.94716553236621848, 0.95011337895512316, 0.9437641715787165, 0.93900226784401197, 0.95306122448979591, 0.93628117913832198, 0.94489795918367347, 0.94965986370229394, 0.94467120181405895, 0.95079365106396663, 0.9564625850340136, 0.94444444444444442, 0.95759637136848608, 0.96848072562358278, 0.94807256211499236, 0.94807256235827664, 0.93854875310478292, 0.95396825396825402, 0.9528344668768971, 0.93650793599433635, 0.96326530612244898, 0.96530612271929539, 0.94263038548752831, 0.95056689342403633, 0.96054421768707487, 0.96507936534968097]\n"
     ]
    },
    {
     "data": {
      "image/png": "[encoded data removed]",
      "text/plain": [
       "<matplotlib.figure.Figure at 0x7f607cefb7b8>"
      ]
     },
     "metadata": {},
     "output_type": "display_data"
    }
   ],
   "source": [
    "print(accuracy_log)\n",
    "plt.plot(accuracy_log, 'b')\n",
    "plt.ylabel('Accuracy')\n",
    "plt.xlabel('Epoch')\n",
    "plt.show()"
   ]
  },
  {
   "cell_type": "code",
   "execution_count": 8,
   "metadata": {},
   "outputs": [
    {
     "name": "stdout",
     "output_type": "stream",
     "text": [
      "Test Accuracy = 0.941\n",
      "Validation Accuracy = 0.965\n",
      "Train Accuracy = 0.997\n"
     ]
    }
   ],
   "source": [
    "# evalution model\n",
    "save_file = './model_rgb.ckpt'\n",
    "saver = tf.train.Saver()\n",
    "with tf.Session() as sess:\n",
    "    saver.restore(sess, save_file)\n",
    "    \n",
    "    \n",
    "    test_accuracy = evaluate(xx_test, yy_test)\n",
    "    print(\"Test Accuracy = {:.3f}\".format(test_accuracy))\n",
    "    \n",
    "    validation_accuracy = evaluate(xx_valid, yy_valid)\n",
    "    print(\"Validation Accuracy = {:.3f}\".format(validation_accuracy))\n",
    "    \n",
    "    train_accuracy = evaluate(xx_train, yy_train)\n",
    "    print(\"Train Accuracy = {:.3f}\".format(train_accuracy))"
   ]
  },
  {
   "cell_type": "markdown",
   "metadata": {},
   "source": [
    "---\n",
    "\n",
    "## Step 3: Test a Model on New Images\n",
    "\n",
    "To give yourself more insight into how your model is working, download at least five pictures of German traffic signs from the web and use your model to predict the traffic sign type.\n",
    "\n",
    "You may find `signnames.csv` useful as it contains mappings from the class id (integer) to the actual sign name."
   ]
  },
  {
   "cell_type": "markdown",
   "metadata": {},
   "source": [
    "### Load and Output the Images"
   ]
  },
  {
   "cell_type": "code",
   "execution_count": 19,
   "metadata": {},
   "outputs": [
    {
     "data": {
      "image/png": "[encoded data removed]",
      "text/plain": [
       "<matplotlib.figure.Figure at 0x7f604101e7f0>"
      ]
     },
     "metadata": {},
     "output_type": "display_data"
    },
    {
     "name": "stdout",
     "output_type": "stream",
     "text": [
      "(32, 32, 3)\n"
     ]
    }
   ],
   "source": [
    "### Load the images and plot them here.\n",
    "### Feel free to use as many code cells as needed.\n",
    "from scipy.misc import imread, imsave, imresize\n",
    "\n",
    "path = 'new_data/'\n",
    "file_name = ['baustelle','left','speed_limit','stop','vorfahrt_achten','traffic_light']\n",
    "# labels -> see signames.csv\n",
    "y_data = np.array([25, 19, 8, 14, 13, 26])\n",
    "\n",
    "sign_list = []\n",
    "\n",
    "for i in file_name:\n",
    "    img = imread(path + i + '.jpg')\n",
    "    # resize image\n",
    "    img = imresize(img, (32, 32))\n",
    "    sign_list.append(img)\n",
    "    \n",
    "# plot images\n",
    "fig = plt.figure(figsize = (25,5))\n",
    "for i in range(0, len(sign_list)):\n",
    "    plt.subplot(1, len(sign_list), i+1)\n",
    "    plt.imshow(sign_list[i])\n",
    "    plt.title('Label: %d' % y_data[i])\n",
    "plt.show()\n",
    "\n",
    "# preprocessing\n",
    "x_data = np.array(sign_list)\n",
    "x_data_n = (x_data - 128.0) / 128.0   \n",
    "\n",
    "print(x_data_n[0].shape)\n"
   ]
  },
  {
   "cell_type": "markdown",
   "metadata": {},
   "source": [
    "### Predict the Sign Type for Each Image"
   ]
  },
  {
   "cell_type": "code",
   "execution_count": 20,
   "metadata": {},
   "outputs": [
    {
     "name": "stdout",
     "output_type": "stream",
     "text": [
      "Accuracy:  0.833333\n",
      "prediction - label\n",
      "25  -  25\n",
      "19  -  19\n",
      "8  -  8\n",
      "14  -  14\n",
      "13  -  13\n",
      "1  -  26\n"
     ]
    }
   ],
   "source": [
    "### Run the predictions here and use the model to output the prediction for each image.\n",
    "### Make sure to pre-process the images with the same pre-processing pipeline used earlier.\n",
    "### Feel free to use as many code cells as needed.\n",
    "import tensorflow as tf\n",
    "\n",
    "prob = tf.placeholder(tf.float32)\n",
    "save_file = './model_rgb.ckpt'\n",
    "saver = tf.train.Saver()\n",
    "with tf.Session() as sess:\n",
    "    saver.restore(sess, save_file)\n",
    "    accuracy = sess.run(accuracy_operation, feed_dict={x: x_data_n, y: y_data})\n",
    "    print(\"Accuracy: \", accuracy)\n",
    "    pred_img = sess.run(tf.argmax(logits,1), feed_dict={x: x_data_n, y: y_data, prob: 1.0})\n",
    "    print(\"prediction - label\")\n",
    "    for i in range(0, len(x_data)):\n",
    "        print(pred_img[i], \" - \", y_data[i])\n",
    "\n",
    "        \n",
    "        \n",
    "\n"
   ]
  },
  {
   "cell_type": "markdown",
   "metadata": {},
   "source": [
    "### Analyze Performance"
   ]
  },
  {
   "cell_type": "code",
   "execution_count": 15,
   "metadata": {},
   "outputs": [
    {
     "name": "stdout",
     "output_type": "stream",
     "text": [
      "see juypter cell 14\n"
     ]
    }
   ],
   "source": [
    "### Calculate the accuracy for these 5 new images. \n",
    "### For example, if the model predicted 1 out of 5 signs correctly, it's 20% accurate on these new images.\n",
    "\n",
    "## ver 2\n",
    "\n",
    "print(\"see juypter cell 14\")"
   ]
  },
  {
   "cell_type": "markdown",
   "metadata": {},
   "source": [
    "### Output Top 5 Softmax Probabilities For Each Image Found on the Web"
   ]
  },
  {
   "cell_type": "markdown",
   "metadata": {},
   "source": [
    "For each of the new images, print out the model's softmax probabilities to show the **certainty** of the model's predictions (limit the output to the top 5 probabilities for each image). [`tf.nn.top_k`](https://www.tensorflow.org/versions/r0.12/api_docs/python/nn.html#top_k) could prove helpful here. \n",
    "\n",
    "The example below demonstrates how tf.nn.top_k can be used to find the top k predictions for each image.\n",
    "\n",
    "`tf.nn.top_k` will return the values and indices (class ids) of the top k predictions. So if k=3, for each sign, it'll return the 3 largest probabilities (out of a possible 43) and the correspoding class ids.\n",
    "\n",
    "Take this numpy array as an example. The values in the array represent predictions. The array contains softmax probabilities for five candidate images with six possible classes. `tf.nn.top_k` is used to choose the three classes with the highest probability:\n",
    "\n",
    "```\n",
    "# (5, 6) array\n",
    "a = np.array([[ 0.24879643,  0.07032244,  0.12641572,  0.34763842,  0.07893497,\n",
    "         0.12789202],\n",
    "       [ 0.28086119,  0.27569815,  0.08594638,  0.0178669 ,  0.18063401,\n",
    "         0.15899337],\n",
    "       [ 0.26076848,  0.23664738,  0.08020603,  0.07001922,  0.1134371 ,\n",
    "         0.23892179],\n",
    "       [ 0.11943333,  0.29198961,  0.02605103,  0.26234032,  0.1351348 ,\n",
    "         0.16505091],\n",
    "       [ 0.09561176,  0.34396535,  0.0643941 ,  0.16240774,  0.24206137,\n",
    "         0.09155967]])\n",
    "```\n",
    "\n",
    "Running it through `sess.run(tf.nn.top_k(tf.constant(a), k=3))` produces:\n",
    "\n",
    "```\n",
    "TopKV2(values=array([[ 0.34763842,  0.24879643,  0.12789202],\n",
    "       [ 0.28086119,  0.27569815,  0.18063401],\n",
    "       [ 0.26076848,  0.23892179,  0.23664738],\n",
    "       [ 0.29198961,  0.26234032,  0.16505091],\n",
    "       [ 0.34396535,  0.24206137,  0.16240774]]), indices=array([[3, 0, 5],\n",
    "       [0, 1, 4],\n",
    "       [0, 5, 1],\n",
    "       [1, 3, 5],\n",
    "       [1, 4, 3]], dtype=int32))\n",
    "```\n",
    "\n",
    "Looking just at the first row we get `[ 0.34763842,  0.24879643,  0.12789202]`, you can confirm these are the 3 largest probabilities in `a`. You'll also notice `[3, 0, 5]` are the corresponding indices."
   ]
  },
  {
   "cell_type": "code",
   "execution_count": 22,
   "metadata": {},
   "outputs": [
    {
     "name": "stdout",
     "output_type": "stream",
     "text": [
      "[[25 19  8 14 13  1]\n",
      " [30 37  0  0 42 18]\n",
      " [ 4 21  1  1  0 12]\n",
      " [ 0 23  2  2  1 41]\n",
      " [ 1 10  3  3  2  3]]\n",
      "top 5 predictions for each image:\n",
      "label - top5\n",
      "25 [  1.00000000e+00   2.64928858e-33   1.32848957e-37   0.00000000e+00\n",
      "   0.00000000e+00]\n",
      "\n",
      "19 [  1.00000000e+00   1.63692185e-10   1.57994270e-10   4.89920431e-12\n",
      "   1.03090496e-12]\n",
      "\n",
      "8 [  1.00000000e+00   3.97214613e-38   0.00000000e+00   0.00000000e+00\n",
      "   0.00000000e+00]\n",
      "\n",
      "14 [ 1.  0.  0.  0.  0.]\n",
      "\n",
      "13 [  1.00000000e+00   9.99862888e-38   0.00000000e+00   0.00000000e+00\n",
      "   0.00000000e+00]\n",
      "\n",
      "26 [  9.99999762e-01   2.74367522e-07   3.56615870e-09   1.90527727e-09\n",
      "   4.34695308e-10]\n",
      "\n"
     ]
    }
   ],
   "source": [
    "### Print out the top five softmax probabilities for the predictions on the German traffic sign images found on the web. \n",
    "### Feel free to use as many code cells as needed.\n",
    "\n",
    "with tf.Session() as sess:\n",
    "    saver.restore(sess, save_file)\n",
    "    top5 = sess.run(tf.nn.top_k(tf.nn.softmax(logits), k=5), feed_dict={x:x_data_n})\n",
    "    print(top5[1].T)\n",
    "          \n",
    "print(\"top 5 predictions for each image:\")\n",
    "print(\"label - top5\")\n",
    "for i in range(len(x_data_n)):\n",
    "    print(y_data[i], top5[0][i].T)\n",
    "    print()\n",
    "    \n",
    "\n"
   ]
  },
  {
   "cell_type": "markdown",
   "metadata": {},
   "source": [
    "### Project Writeup\n",
    "\n",
    "Once you have completed the code implementation, document your results in a project writeup using this [template](https://github.com/udacity/CarND-Traffic-Sign-Classifier-Project/blob/master/writeup_template.md) as a guide. The writeup can be in a markdown or pdf file. "
   ]
  },
  {
   "cell_type": "markdown",
   "metadata": {},
   "source": [
    "> **Note**: Once you have completed all of the code implementations and successfully answered each question above, you may finalize your work by exporting the iPython Notebook as an HTML document. You can do this by using the menu above and navigating to  \\n\",\n",
    "    \"**File -> Download as -> HTML (.html)**. Include the finished document along with this notebook as your submission."
   ]
  },
  {
   "cell_type": "markdown",
   "metadata": {},
   "source": [
    "---\n",
    "\n",
    "## Step 4 (Optional): Visualize the Neural Network's State with Test Images\n",
    "\n",
    " This Section is not required to complete but acts as an additional excersise for understaning the output of a neural network's weights. While neural networks can be a great learning device they are often referred to as a black box. We can understand what the weights of a neural network look like better by plotting their feature maps. After successfully training your neural network you can see what it's feature maps look like by plotting the output of the network's weight layers in response to a test stimuli image. From these plotted feature maps, it's possible to see what characteristics of an image the network finds interesting. For a sign, maybe the inner network feature maps react with high activation to the sign's boundary outline or to the contrast in the sign's painted symbol.\n",
    "\n",
    " Provided for you below is the function code that allows you to get the visualization output of any tensorflow weight layer you want. The inputs to the function should be a stimuli image, one used during training or a new one you provided, and then the tensorflow variable name that represents the layer's state during the training process, for instance if you wanted to see what the [LeNet lab's](https://classroom.udacity.com/nanodegrees/nd013/parts/fbf77062-5703-404e-b60c-95b78b2f3f9e/modules/6df7ae49-c61c-4bb2-a23e-6527e69209ec/lessons/601ae704-1035-4287-8b11-e2c2716217ad/concepts/d4aca031-508f-4e0b-b493-e7b706120f81) feature maps looked like for it's second convolutional layer you could enter conv2 as the tf_activation variable.\n",
    "\n",
    "For an example of what feature map outputs look like, check out NVIDIA's results in their paper [End-to-End Deep Learning for Self-Driving Cars](https://devblogs.nvidia.com/parallelforall/deep-learning-self-driving-cars/) in the section Visualization of internal CNN State. NVIDIA was able to show that their network's inner weights had high activations to road boundary lines by comparing feature maps from an image with a clear path to one without. Try experimenting with a similar test to show that your trained network's weights are looking for interesting features, whether it's looking at differences in feature maps from images with or without a sign, or even what feature maps look like in a trained network vs a completely untrained one on the same sign image.\n",
    "\n",
    "<figure>\n",
    " <img src=\"visualize_cnn.png\" width=\"380\" alt=\"Combined Image\" />\n",
    " <figcaption>\n",
    " <p></p> \n",
    " <p style=\"text-align: center;\"> Your output should look something like this (above)</p> \n",
    " </figcaption>\n",
    "</figure>\n",
    " <p></p> \n"
   ]
  },
  {
   "cell_type": "code",
   "execution_count": null,
   "metadata": {
    "collapsed": true
   },
   "outputs": [],
   "source": [
    "### Visualize your network's feature maps here.\n",
    "### Feel free to use as many code cells as needed.\n",
    "\n",
    "# image_input: the test image being fed into the network to produce the feature maps\n",
    "# tf_activation: should be a tf variable name used during your training procedure that represents the calculated state of a specific weight layer\n",
    "# activation_min/max: can be used to view the activation contrast in more detail, by default matplot sets min and max to the actual min and max values of the output\n",
    "# plt_num: used to plot out multiple different weight feature map sets on the same block, just extend the plt number for each new feature map entry\n",
    "\n",
    "def outputFeatureMap(image_input, tf_activation, activation_min=-1, activation_max=-1 ,plt_num=1):\n",
    "    # Here make sure to preprocess your image_input in a way your network expects\n",
    "    # with size, normalization, ect if needed\n",
    "    # image_input =\n",
    "    # Note: x should be the same name as your network's tensorflow data placeholder variable\n",
    "    # If you get an error tf_activation is not defined it may be having trouble accessing the variable from inside a function\n",
    "    activation = tf_activation.eval(session=sess,feed_dict={x : image_input})\n",
    "    featuremaps = activation.shape[3]\n",
    "    plt.figure(plt_num, figsize=(15,15))\n",
    "    for featuremap in range(featuremaps):\n",
    "        plt.subplot(6,8, featuremap+1) # sets the number of feature maps to show on each row and column\n",
    "        plt.title('FeatureMap ' + str(featuremap)) # displays the feature map number\n",
    "        if activation_min != -1 & activation_max != -1:\n",
    "            plt.imshow(activation[0,:,:, featuremap], interpolation=\"nearest\", vmin =activation_min, vmax=activation_max, cmap=\"gray\")\n",
    "        elif activation_max != -1:\n",
    "            plt.imshow(activation[0,:,:, featuremap], interpolation=\"nearest\", vmax=activation_max, cmap=\"gray\")\n",
    "        elif activation_min !=-1:\n",
    "            plt.imshow(activation[0,:,:, featuremap], interpolation=\"nearest\", vmin=activation_min, cmap=\"gray\")\n",
    "        else:\n",
    "            plt.imshow(activation[0,:,:, featuremap], interpolation=\"nearest\", cmap=\"gray\")"
   ]
  }
 ],
 "metadata": {
  "anaconda-cloud": {},
  "kernelspec": {
   "display_name": "Python 3",
   "language": "python",
   "name": "python3"
  },
  "language_info": {
   "codemirror_mode": {
    "name": "ipython",
    "version": 3
   },
   "file_extension": ".py",
   "mimetype": "text/x-python",
   "name": "python",
   "nbconvert_exporter": "python",
   "pygments_lexer": "ipython3",
   "version": "3.5.2"
  },
  "widgets": {
   "state": {},
   "version": "1.1.2"
  }
 },
 "nbformat": 4,
 "nbformat_minor": 1
}
